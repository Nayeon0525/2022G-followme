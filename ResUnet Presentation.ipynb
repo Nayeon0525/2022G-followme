{
 "cells": [
  {
   "cell_type": "markdown",
   "id": "3f36a0b4",
   "metadata": {},
   "source": [
    "# ResUnet-a & ResUnet++\n",
    "1. ResUNet-a : a deep larning framework for semantic segmentation of remotely sensed data  \n",
    "* https://arxiv.org/abs/1904.00592\n",
    "2. ResUNet++ : An advanced Architecture for Medical Image Segmentation\n",
    "* https://arxiv.org/abs/1911.07067"
   ]
  },
  {
   "cell_type": "markdown",
   "id": "4a290012",
   "metadata": {},
   "source": [
    "## 0. Abstract\n",
    "* semantic segmentation의 새로운 network `ResUnet-a`\n",
    "    > - Unet encoder/decoder backbone\n",
    "    > - residual connections\n",
    "    > - atous convolutions\n",
    "    > - pyramid scene parsing pooling (; PSPNet)\n",
    "* multi-task output layer\n",
    "    > - Segmentation logits\n",
    "    > - Boundary logits\n",
    "    > - Distance logits\n",
    "    > - Color logits\n",
    "  \n",
    "* 새로운 Dice loss 도입\n",
    "* ISPRS(International Society Photogrammetry and Remote Sensing)의 2D Semantic Labeling Contest-Potsdam 데이터를 사용\n",
    "* average F1 score 92.9%, SOTA (state-of-the-art) performance 달성\n"
   ]
  },
  {
   "cell_type": "markdown",
   "id": "74f7d4ff",
   "metadata": {},
   "source": [
    "## 1. Introduce\n",
    "### 이전 알고리즘들\n",
    "* 도시 환경 이미지(ex. 위성사진)에서 정보를 추출하는 것이 어려운 이유 두 가지\n",
    "    > 1. object의 class가 너무 다양한데 class 간의 특징이 비슷하고(ex. 시멘트 지붕, 시멘트 인도, 시멘트 자동차도로 등과 같이 다른 클래스이지만 비슷한 특징을 갖는 경우), 동일한 class 내에서 너무 다양한 특징을 갖는다(ex. 같은 'building' 클래스에 있는 object들이 다양한 형태, 색깔, 크기 등을 갖는 경우)  \n",
    "    \n",
    "    > 2. 3D 환경에서 물체 간의 상호 작용 ex. 물체와 그림자 등\n",
    "* pixel-based classifications은 VHR(very high resolution)의 많은 정보를 이용하지 못하고, salt&pepper effect 영향을 받는다 \n",
    "* GEOBIA(Geographic Object-Based Image Analysis)는 pre-selected feature에 의존한다. 이는 데이터 자체에서 학습되는 것이 아니다. 또한 도시 이미지에서 주로 함께 보이는 자동차, 나무와 같은 작은 물체와 건물과 같은 큰 물체를 동시에 다루지 못할 수 있다.\n",
    "* CNN-based 알고리즘은 end-to-end solution을 제공해 더 나은 일반화(generalization) 능력을 보이고, 전체 이미지 object를 특성화하고, salt&pepper effect를 줄인다.\n",
    "\n",
    "### ResUNet-a 는 object-based\n",
    "* 이미지에 존재하는 모든 객체들로부터 features를 추출하고, 각 픽셀에 class probability의 vector를 할당한다\n",
    "* 자동차가 도로에 속하는 픽셀에 둘러싸여 있을 가능성이 더 높고 건물에 속하는 픽셀에 둘러싸여 있을 가능성이 더 낮다는 것을 이해할 수 있다."
   ]
  },
  {
   "cell_type": "markdown",
   "id": "7c7d9b30",
   "metadata": {},
   "source": [
    "## 2. Related Work\n",
    "### Atrous Convolution\n",
    "\n",
    "### UNet\n",
    "### Hourglass-shape network\n",
    "### Pyamid Pooling layer"
   ]
  },
  {
   "cell_type": "markdown",
   "id": "ad06d691",
   "metadata": {},
   "source": [
    "## 3. The `ResUnet-a` framework\n",
    "## 4. Data and preprocessing\n",
    "## 5. Architecture and Tanimoto loss experimetal analysis\n",
    "## 6. Results and discussion\n",
    "## 7. Conclusion"
   ]
  }
 ],
 "metadata": {
  "kernelspec": {
   "display_name": "Python 3 (ipykernel)",
   "language": "python",
   "name": "python3"
  },
  "language_info": {
   "codemirror_mode": {
    "name": "ipython",
    "version": 3
   },
   "file_extension": ".py",
   "mimetype": "text/x-python",
   "name": "python",
   "nbconvert_exporter": "python",
   "pygments_lexer": "ipython3",
   "version": "3.9.12"
  }
 },
 "nbformat": 4,
 "nbformat_minor": 5
}
